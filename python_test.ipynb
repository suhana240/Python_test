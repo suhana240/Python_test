{
 "cells": [
  {
   "cell_type": "markdown",
   "id": "d8f2e3ee-222b-4e57-a5c8-bf24efac67ab",
   "metadata": {},
   "source": [
    "# 1)\tWrite a program to count the sub_string from main string\r",
    "# \n",
    "Example:- A B C D C D C# \r\n",
    "Sub_string= C D C result =2\r\n",
    "\r\n"
   ]
  },
  {
   "cell_type": "code",
   "execution_count": 18,
   "id": "eb929f13-2933-4798-98a1-95ca4b15a7a2",
   "metadata": {},
   "outputs": [
    {
     "name": "stdout",
     "output_type": "stream",
     "text": [
      "2\n"
     ]
    }
   ],
   "source": [
    "def count_substring(main_string, sub_string):\n",
    "  count = 0\n",
    "  for i in range(len(main_string) - len(sub_string) + 1):\n",
    "    if main_string[i:i + len(sub_string)] == sub_string:\n",
    "      count += 1\n",
    "  return count\n",
    "\n",
    "\n",
    "main_string = \"A B C D C D C\"\n",
    "sub_string = \"C D C\"\n",
    "result = count_substring(main_string, sub_string)\n",
    "print(result)"
   ]
  },
  {
   "cell_type": "markdown",
   "id": "ef819f49-ef7e-4fa8-a5bf-240c4d123328",
   "metadata": {},
   "source": [
    "### 2)\tWrite a program to take 4 number and store in list \n",
    "# [2,4,6,8] find the factorial of the each number of the list and store the value  in the list \n"
   ]
  },
  {
   "cell_type": "code",
   "execution_count": 11,
   "id": "e7b0e69d-541a-4f5e-92ff-000aab7dbb35",
   "metadata": {},
   "outputs": [
    {
     "name": "stdout",
     "output_type": "stream",
     "text": [
      "[2, 24, 720, 40320]\n"
     ]
    }
   ],
   "source": [
    "import math\n",
    "\n",
    "\n",
    "numbers = [2, 4, 6, 8]\n",
    "\n",
    "\n",
    "factorials = [math.factorial(num) for num in numbers]\n",
    "\n",
    "print(factorials)  \n"
   ]
  },
  {
   "cell_type": "markdown",
   "id": "4adf5fed-18f3-43f6-a39c-673e63cae191",
   "metadata": {},
   "source": [
    "## 3)\tCreate a strong password combining words, numbers and characters. \n",
    "#(* )Keep creating the new password until you find one you like  \n"
   ]
  },
  {
   "cell_type": "code",
   "execution_count": 20,
   "id": "40b9b8d0-6287-44d7-b01a-bcfe9e07a074",
   "metadata": {},
   "outputs": [
    {
     "name": "stdout",
     "output_type": "stream",
     "text": [
      "lO?6j%/fOa\\P\n"
     ]
    },
    {
     "name": "stdin",
     "output_type": "stream",
     "text": [
      "Do you like this password? (y/n):  y\n"
     ]
    }
   ],
   "source": [
    "\n",
    "import random\n",
    "import string\n",
    "\n",
    "def generate_password(length=12):\n",
    "    letters = string.ascii_letters\n",
    "    digits = string.digits\n",
    "    symbols = string.punctuation\n",
    "    combined = letters + digits + symbols\n",
    "    password = ''.join(random.choices(combined, k=length))\n",
    "    return password\n",
    "\n",
    "\n",
    "while True:\n",
    "    password = generate_password()\n",
    "    print(password)\n",
    "    if input(\"Do you like this password? (y/n): \") == \"y\":\n",
    "        break"
   ]
  },
  {
   "cell_type": "markdown",
   "id": "a881e07c-a79d-44c0-a0d2-6688740c9026",
   "metadata": {},
   "source": [
    "### 4)Checking of the vowels inside the string"
   ]
  },
  {
   "cell_type": "code",
   "execution_count": 24,
   "id": "89c1b90b-ba0f-4823-9b61-5acd544eb483",
   "metadata": {},
   "outputs": [
    {
     "name": "stdout",
     "output_type": "stream",
     "text": [
      "Vowel counts: {'u': 2, 'a': 5, 'e': 1}\n"
     ]
    }
   ],
   "source": [
    "def check_vowels(input_string):\n",
    "    \n",
    "    vowels = set('aeiouAEIOU')\n",
    "    \n",
    "    \n",
    "    vowel_count = {vowel: 0 for vowel in vowels}\n",
    "    \n",
    "   \n",
    "    for char in input_string:\n",
    "        if char in vowels:\n",
    "            vowel_count[char] += 1\n",
    "    \n",
    "    \n",
    "    vowel_count = {k: v for k, v in vowel_count.items() if v > 0}\n",
    "    \n",
    "    return vowel_count\n",
    "\n",
    "\n",
    "input_string = \"Syeda Sultana Sultana!\"\n",
    "vowel_counts = check_vowels(input_string)\n",
    "print(\"Vowel counts:\", vowel_counts)\n"
   ]
  },
  {
   "cell_type": "markdown",
   "id": "03cbac8c-911a-4dce-8d7f-0e33faa76415",
   "metadata": {},
   "source": [
    "### 5)\tA python program to access each element of a string in forward and reverse orders using while loop \n",
    "\n"
   ]
  },
  {
   "cell_type": "code",
   "execution_count": 38,
   "id": "4323431b-01b4-410b-808a-8385170aa621",
   "metadata": {},
   "outputs": [
    {
     "name": "stdout",
     "output_type": "stream",
     "text": [
      "-:Accessing string element in forword order:- \n",
      "s u h a n a \n",
      "-:Accessing string elemnt in reverse order:-\n",
      "a n a h u s "
     ]
    }
   ],
   "source": [
    "def access_string(s):\n",
    "    print(\"-:Accessing string element in forword order:- \")\n",
    "    i = 0\n",
    "    while i < len(s):\n",
    "        print(s[i], end= \" \")\n",
    "        i += 1\n",
    "    print(\"\\n-:Accessing string elemnt in reverse order:-\")\n",
    "    i = len(s) - 1\n",
    "    while i >= 0:\n",
    "        print(s[i],end=\" \")\n",
    "        i -= 1\n",
    "string = \"suhana\"\n",
    "access_string(string)"
   ]
  },
  {
   "cell_type": "markdown",
   "id": "829d250f-03ac-441d-b5f4-7c7a450dbfc9",
   "metadata": {},
   "source": [
    "### 6)\tWrite a python program to know whether a sub- string exists in main string "
   ]
  },
  {
   "cell_type": "code",
   "execution_count": 31,
   "id": "c4617443-c015-49dd-b17f-4ce06ccce760",
   "metadata": {},
   "outputs": [
    {
     "name": "stdout",
     "output_type": "stream",
     "text": [
      "'World' exists in the main string.\n"
     ]
    }
   ],
   "source": [
    "def substring_exists(main_string, sub_string):\n",
    "    \n",
    "    return sub_string in main_string\n",
    "\n",
    "\n",
    "main_string = \"Hello, World!\"\n",
    "sub_string = \"World\"\n",
    "\n",
    "if substring_exists(main_string, sub_string):\n",
    "    print(f\"'{sub_string}' exists in the main string.\")\n",
    "else:\n",
    "    print(f\"'{sub_string}' does not exist in the main string.\")\n"
   ]
  },
  {
   "cell_type": "markdown",
   "id": "0e22a2ad-1921-4663-b54e-99f0f876721b",
   "metadata": {},
   "source": [
    "### 7)\tA python program to find the first occurrences of sub string in a given main string  "
   ]
  },
  {
   "cell_type": "code",
   "execution_count": 30,
   "id": "e0f4c70c-b35d-4ddb-b323-84691ea807b6",
   "metadata": {},
   "outputs": [
    {
     "name": "stdout",
     "output_type": "stream",
     "text": [
      "6\n"
     ]
    }
   ],
   "source": [
    "def find_first_occurrence(main_string, sub_string):\n",
    "  index = main_string.find(sub_string)\n",
    "  return index\n",
    "\n",
    "main_string = \"It is hot summer\"\n",
    "sub_string = \"hot\"\n",
    "result = find_first_occurrence(main_string, sub_string)\n",
    "print(result)\n"
   ]
  },
  {
   "cell_type": "markdown",
   "id": "8b833f1c-26fe-473e-b74c-0a6f71051def",
   "metadata": {},
   "source": [
    "### 8)\tA python program to insert a sub string in main string in a particular position\n",
    "\n",
    "#Example:- enter a string :- it is summer\n",
    "#Enter sub_string;- hot\n",
    "#Enter position no:- 7\n",
    "#output:- It is hotsummer \n"
   ]
  },
  {
   "cell_type": "code",
   "execution_count": 36,
   "id": "b828cb4e-2e17-4682-a7a9-347e64bafc60",
   "metadata": {},
   "outputs": [
    {
     "name": "stdout",
     "output_type": "stream",
     "text": [
      "it is hotsummer\n"
     ]
    }
   ],
   "source": [
    "def insert_substring(main_string, sub_string, position):\n",
    "  return main_string[:position] + sub_string + main_string[position:]\n",
    "\n",
    "\n",
    "main_string = \"it is summer\"\n",
    "sub_string = \"hot\"\n",
    "\n",
    "position = 6\n",
    "result = insert_substring(main_string, sub_string, position)\n",
    "print(result)\n",
    "\n"
   ]
  },
  {
   "cell_type": "markdown",
   "id": "e20af2ea-ffb3-4211-8366-e4b24a711add",
   "metadata": {},
   "source": [
    "### 9)generate an infinite fibonaaci series by using generator yield"
   ]
  },
  {
   "cell_type": "code",
   "execution_count": 40,
   "id": "c93db799-ade7-46c3-86f7-d23bdc6356cd",
   "metadata": {},
   "outputs": [
    {
     "name": "stdout",
     "output_type": "stream",
     "text": [
      "0 1 1 2 3 5 8 13 21 34 "
     ]
    }
   ],
   "source": [
    "def fibonacci_generator(n):\n",
    "  a, b = 0, 1\n",
    "  for i in range(n):\n",
    "    yield a\n",
    "    a, b = b, a + b\n",
    "\n",
    "for j in fibonacci_generator(10):\n",
    "    print(j,end=' ')"
   ]
  },
  {
   "cell_type": "code",
   "execution_count": null,
   "id": "178f811d-d021-4057-9e16-a51bbfd9eadc",
   "metadata": {},
   "outputs": [],
   "source": []
  }
 ],
 "metadata": {
  "kernelspec": {
   "display_name": "Python 3 (ipykernel)",
   "language": "python",
   "name": "python3"
  },
  "language_info": {
   "codemirror_mode": {
    "name": "ipython",
    "version": 3
   },
   "file_extension": ".py",
   "mimetype": "text/x-python",
   "name": "python",
   "nbconvert_exporter": "python",
   "pygments_lexer": "ipython3",
   "version": "3.12.4"
  }
 },
 "nbformat": 4,
 "nbformat_minor": 5
}
